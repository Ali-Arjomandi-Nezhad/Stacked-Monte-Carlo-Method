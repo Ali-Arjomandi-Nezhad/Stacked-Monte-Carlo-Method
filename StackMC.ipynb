{
 "cells": [
  {
   "cell_type": "markdown",
   "metadata": {},
   "source": [
    "F(x) = x^6 + 1.2*x^5 - 30.43*x^4 - 6.47*x^3 + 19.05*x^2 -4.81*x + 0.3\n",
    "\n",
    "0.5*integral(F(x)dx, x from -1 to 1)= 0.7068"
   ]
  },
  {
   "cell_type": "code",
   "execution_count": 1,
   "metadata": {},
   "outputs": [],
   "source": [
    "import numpy as np\n",
    "import matplotlib.pyplot as plt"
   ]
  },
  {
   "cell_type": "markdown",
   "metadata": {},
   "source": [
    "## Data and folds:\n",
    "\n",
    "(Notice: In real cases, a huge amount of data is loaded from a file or web.)"
   ]
  },
  {
   "cell_type": "code",
   "execution_count": 2,
   "metadata": {},
   "outputs": [
    {
     "name": "stdout",
     "output_type": "stream",
     "text": [
      "[[-3.37210885e-01]\n",
      " [ 8.30807666e-02]\n",
      " [ 5.82532859e-01]\n",
      " [ 3.70833816e-01]\n",
      " [ 5.85816450e-01]\n",
      " [ 9.47701374e-01]\n",
      " [ 6.83923072e-02]\n",
      " [-4.78357022e-01]\n",
      " [-4.50648306e-04]\n",
      " [ 1.95011613e-01]\n",
      " [-5.17276560e-01]\n",
      " [-4.53724418e-01]\n",
      " [-7.32441608e-01]\n",
      " [-3.98456536e-01]\n",
      " [ 4.26506906e-01]\n",
      " [-4.19800376e-01]\n",
      " [ 3.52642019e-01]\n",
      " [-8.12185382e-01]\n",
      " [-4.50970598e-01]\n",
      " [ 5.74548919e-01]\n",
      " [-4.98303929e-01]\n",
      " [ 8.67568188e-01]\n",
      " [-8.95939804e-01]\n",
      " [ 1.56614569e-01]\n",
      " [-8.83832054e-01]\n",
      " [ 1.97859043e-01]\n",
      " [ 6.18320700e-01]\n",
      " [-3.10666042e-01]\n",
      " [-1.27526375e-01]\n",
      " [ 8.08160806e-01]\n",
      " [ 7.09763413e-02]\n",
      " [ 3.25580266e-01]\n",
      " [-1.09239767e-02]\n",
      " [ 7.23491540e-01]\n",
      " [-1.89812458e-01]\n",
      " [-5.34776150e-01]\n",
      " [-5.80741046e-01]\n",
      " [ 6.75967904e-01]\n",
      " [ 9.88319524e-01]\n",
      " [-9.75060379e-01]\n",
      " [-3.41424702e-01]\n",
      " [ 6.26243078e-01]\n",
      " [ 4.65261147e-01]\n",
      " [-6.40779326e-01]\n",
      " [-3.49936799e-01]\n",
      " [-5.89739503e-01]\n",
      " [ 3.44955224e-01]\n",
      " [ 2.96064065e-01]\n",
      " [ 1.75392058e-01]\n",
      " [-5.74326189e-01]\n",
      " [ 4.02878898e-01]\n",
      " [-9.27915104e-01]\n",
      " [ 9.34852834e-01]\n",
      " [ 1.63588604e-02]\n",
      " [ 7.33267171e-01]\n",
      " [ 4.06436105e-01]\n",
      " [ 9.88448384e-01]\n",
      " [-3.43490472e-01]\n",
      " [-7.01078478e-01]\n",
      " [-9.29295591e-01]\n",
      " [ 1.95879368e-01]\n",
      " [ 3.05863025e-01]\n",
      " [-8.86426853e-01]\n",
      " [ 7.30147908e-01]\n",
      " [-1.47629756e-01]\n",
      " [-5.65642448e-01]\n",
      " [-3.54233812e-01]\n",
      " [ 6.20596437e-01]\n",
      " [-7.50623056e-01]\n",
      " [-2.65965394e-01]\n",
      " [-6.95634109e-01]\n",
      " [ 2.94439688e-01]\n",
      " [ 4.20458374e-01]\n",
      " [-2.91726568e-01]\n",
      " [-9.62755296e-01]\n",
      " [ 8.08235296e-01]\n",
      " [-5.20507626e-02]\n",
      " [-4.79235679e-01]\n",
      " [-7.25241091e-01]\n",
      " [ 6.34542429e-01]]\n",
      "[[ 3.93904330e+00]\n",
      " [ 2.67175157e-02]\n",
      " [-7.01038110e-01]\n",
      " [ 2.41606947e-01]\n",
      " [-7.41543152e-01]\n",
      " [-1.55605323e+01]\n",
      " [ 5.74058525e-02]\n",
      " [ 6.05680684e+00]\n",
      " [ 3.02171488e-01]\n",
      " [-5.14193718e-03]\n",
      " [ 6.57695611e+00]\n",
      " [ 5.70450160e+00]\n",
      " [ 7.72875163e+00]\n",
      " [ 4.87529965e+00]\n",
      " [ 2.27885785e-01]\n",
      " [ 5.19986988e+00]\n",
      " [ 2.26932518e-01]\n",
      " [ 6.86106703e+00]\n",
      " [ 5.66426228e+00]\n",
      " [-6.07030552e-01]\n",
      " [ 6.32987535e+00]\n",
      " [-9.98241592e+00]\n",
      " [ 4.77133542e+00]\n",
      " [-2.90893249e-02]\n",
      " [ 5.16009522e+00]\n",
      " [-2.25683988e-03]\n",
      " [-1.20398653e+00]\n",
      " [ 3.54085258e+00]\n",
      " [ 1.22854564e+00]\n",
      " [-6.84855877e+00]\n",
      " [ 5.14875318e-02]\n",
      " [ 1.93665487e-01]\n",
      " [ 3.54825627e-01]\n",
      " [-3.61488658e+00]\n",
      " [ 1.90384319e+00]\n",
      " [ 6.79191198e+00]\n",
      " [ 7.28324161e+00]\n",
      " [-2.33387857e+00]\n",
      " [-1.90616655e+01]\n",
      " [ 1.39529435e+00]\n",
      " [ 4.00294481e+00]\n",
      " [-1.33462354e+00]\n",
      " [ 1.44592574e-01]\n",
      " [ 7.71568685e+00]\n",
      " [ 4.13245819e+00]\n",
      " [ 7.36480248e+00]\n",
      " [ 2.18694553e-01]\n",
      " [ 1.47438101e-01]\n",
      " [-2.10896490e-02]\n",
      " [ 7.22192757e+00]\n",
      " [ 2.46434161e-01]\n",
      " [ 3.58813534e+00]\n",
      " [-1.45517111e+01]\n",
      " [ 2.26381394e-01]\n",
      " [-3.92258402e+00]\n",
      " [ 2.44974088e-01]\n",
      " [-1.90735536e+01]\n",
      " [ 4.03432615e+00]\n",
      " [ 7.82908048e+00]\n",
      " [ 3.53173159e+00]\n",
      " [-4.27699887e-03]\n",
      " [ 1.63541819e-01]\n",
      " [ 5.07942115e+00]\n",
      " [-3.82267394e+00]\n",
      " [ 1.43157447e+00]\n",
      " [ 7.13492500e+00]\n",
      " [ 4.19802244e+00]\n",
      " [-1.24076125e+00]\n",
      " [ 7.61291329e+00]\n",
      " [ 2.89506073e+00]\n",
      " [ 7.83454629e+00]\n",
      " [ 1.44720139e-01]\n",
      " [ 2.34697923e-01]\n",
      " [ 3.26275929e+00]\n",
      " [ 2.02207771e+00]\n",
      " [-6.85200939e+00]\n",
      " [ 6.02664587e-01]\n",
      " [ 6.06908800e+00]\n",
      " [ 7.76256924e+00]\n",
      " [-1.47948505e+00]]\n"
     ]
    }
   ],
   "source": [
    "X=np.random.uniform(-1,1,(80,1))\n",
    "\n",
    "\n",
    "F=np.array([])\n",
    "\n",
    "for k in X:\n",
    "    F=np.append(F, [pow(k,6)+1.2*pow(k,5)- 30.43*pow(k,4) - 6.47*pow(k,3) + 19.05*pow(k,2) -4.81*k + 0.3 ])\n",
    "\n",
    "\n",
    "print(X)\n",
    "F=F.reshape(80,1)\n",
    "print(F)\n",
    "\n",
    "\n",
    "\n",
    "\n"
   ]
  },
  {
   "cell_type": "markdown",
   "metadata": {},
   "source": [
    "## The result of simple Monte Carlo:\n"
   ]
  },
  {
   "cell_type": "code",
   "execution_count": 3,
   "metadata": {},
   "outputs": [
    {
     "name": "stdout",
     "output_type": "stream",
     "text": [
      "1.0849706270953061\n"
     ]
    }
   ],
   "source": [
    "MC_F=np.mean(F)\n",
    "print(MC_F)"
   ]
  },
  {
   "cell_type": "markdown",
   "metadata": {},
   "source": [
    "## Supervised learning:\n",
    "### decision tree regression"
   ]
  },
  {
   "cell_type": "code",
   "execution_count": 4,
   "metadata": {},
   "outputs": [],
   "source": [
    "from sklearn.tree import DecisionTreeRegressor"
   ]
  },
  {
   "cell_type": "code",
   "execution_count": 5,
   "metadata": {},
   "outputs": [],
   "source": [
    "dpth=6\n",
    "g1 = DecisionTreeRegressor(max_depth=dpth)\n",
    "g2 = DecisionTreeRegressor(max_depth=dpth)\n",
    "g3 = DecisionTreeRegressor(max_depth=dpth)\n",
    "g4 = DecisionTreeRegressor(max_depth=dpth)\n",
    "g5 = DecisionTreeRegressor(max_depth=dpth)\n",
    "g6 = DecisionTreeRegressor(max_depth=dpth)\n",
    "g7 = DecisionTreeRegressor(max_depth=dpth)\n",
    "g8 = DecisionTreeRegressor(max_depth=dpth)\n",
    "g9 = DecisionTreeRegressor(max_depth=dpth)\n",
    "g10 = DecisionTreeRegressor(max_depth=dpth)\n",
    "g11 = DecisionTreeRegressor(max_depth=dpth)\n",
    "g12 = DecisionTreeRegressor(max_depth=dpth)\n",
    "g13 = DecisionTreeRegressor(max_depth=dpth)\n",
    "g14 = DecisionTreeRegressor(max_depth=dpth)\n",
    "g15 = DecisionTreeRegressor(max_depth=dpth)\n",
    "g16 = DecisionTreeRegressor(max_depth=dpth)\n",
    "g17 = DecisionTreeRegressor(max_depth=dpth)\n",
    "g18 = DecisionTreeRegressor(max_depth=dpth)\n",
    "g19 = DecisionTreeRegressor(max_depth=dpth)\n",
    "g20 = DecisionTreeRegressor(max_depth=dpth)\n",
    "\n",
    "g=[g1, g2 , g3 , g4 , g5 , g6 , g7 , g8 , g9 , g10 , g11, g12 , g13 , g14 , g15 , g16 , g17 , g18 , g19 , g20]"
   ]
  },
  {
   "cell_type": "code",
   "execution_count": 6,
   "metadata": {},
   "outputs": [],
   "source": [
    "for i in range(20):\n",
    "    Inp=X.copy()\n",
    "\n",
    "    Inp=np.concatenate([Inp[0:4*i], Inp[4*(i+1):80]])\n",
    "   \n",
    "    \n",
    "    Outp=F.copy()\n",
    "    Outp=np.concatenate([Outp[0:4*i], Outp[4*(i+1):80]])\n",
    "       \n",
    "    \n",
    "    g[i].fit(Inp,Outp )"
   ]
  },
  {
   "cell_type": "code",
   "execution_count": 7,
   "metadata": {},
   "outputs": [
    {
     "name": "stdout",
     "output_type": "stream",
     "text": [
      "DecisionTreeRegressor(criterion='mse', max_depth=6, max_features=None,\n",
      "                      max_leaf_nodes=None, min_impurity_decrease=0.0,\n",
      "                      min_impurity_split=None, min_samples_leaf=1,\n",
      "                      min_samples_split=2, min_weight_fraction_leaf=0.0,\n",
      "                      presort=False, random_state=None, splitter='best')\n"
     ]
    }
   ],
   "source": [
    "print(g1)"
   ]
  },
  {
   "cell_type": "markdown",
   "metadata": {},
   "source": [
    "   ## Computing alpha:\n",
    "   \n",
    "  ### Computing averages"
   ]
  },
  {
   "cell_type": "code",
   "execution_count": 8,
   "metadata": {},
   "outputs": [
    {
     "name": "stdout",
     "output_type": "stream",
     "text": [
      "[1.13550725]\n"
     ]
    }
   ],
   "source": [
    "mu_F=np.mean(F)\n",
    "\n",
    "Gsum=0\n",
    "\n",
    "for i in range(20): \n",
    "    nn=g[i]\n",
    "    for j in list(range(4*i,4*(i+1))):\n",
    "        inp=X[j].reshape(-1, 1)\n",
    "        Gsum=Gsum + nn.predict(inp)\n",
    "\n",
    "\n",
    "mu_G=Gsum/(X.shape[0])\n",
    "print(mu_G)"
   ]
  },
  {
   "cell_type": "markdown",
   "metadata": {},
   "source": [
    "  ### Computing standard deviation"
   ]
  },
  {
   "cell_type": "code",
   "execution_count": 9,
   "metadata": {},
   "outputs": [
    {
     "name": "stdout",
     "output_type": "stream",
     "text": [
      "5.627933262120374\n"
     ]
    }
   ],
   "source": [
    "import math  \n",
    "\n",
    "A=[(ff-mu_F)*(ff-mu_F) for ff in F]\n",
    "sd_F=math.sqrt(sum(A)/(X.shape[0]-1))\n",
    "print(sd_F)"
   ]
  },
  {
   "cell_type": "code",
   "execution_count": 10,
   "metadata": {},
   "outputs": [
    {
     "name": "stdout",
     "output_type": "stream",
     "text": [
      "5.56114881468457\n"
     ]
    }
   ],
   "source": [
    "B=[]\n",
    "for i in range(20): \n",
    "    nn=g[i]\n",
    "    for j in list(range(4*i,4*(i+1))):\n",
    "        inp=X[j].reshape(-1, 1)         \n",
    "        B.append((nn.predict(inp)-mu_G)*(nn.predict(inp)-mu_G))\n",
    "            \n",
    "            \n",
    "sd_g=math.sqrt(sum(B)/(X.shape[0]-1))\n",
    "print(sd_g)\n",
    "\n"
   ]
  },
  {
   "cell_type": "markdown",
   "metadata": {},
   "source": [
    "### Computing covariance and alpha"
   ]
  },
  {
   "cell_type": "code",
   "execution_count": 11,
   "metadata": {},
   "outputs": [
    {
     "name": "stdout",
     "output_type": "stream",
     "text": [
      "[31.17710033]\n"
     ]
    }
   ],
   "source": [
    "C=[]\n",
    "\n",
    "for i in range(20): \n",
    "    nn=g[i]\n",
    "    for j in list(range(4*i,4*(i+1))):\n",
    "        inp=X[j].reshape(-1, 1)         \n",
    "        C.append((F[j]-mu_F)*(nn.predict(inp)-mu_G))\n",
    "            \n",
    "            \n",
    "Cov=sum(C)/(X.shape[0]-1)\n",
    "print(Cov)"
   ]
  },
  {
   "cell_type": "code",
   "execution_count": 12,
   "metadata": {},
   "outputs": [
    {
     "name": "stdout",
     "output_type": "stream",
     "text": [
      "[1.00810713]\n"
     ]
    }
   ],
   "source": [
    "ro=Cov/(sd_F*sd_g)\n",
    "alpha=ro*(sd_F/sd_g)\n",
    "print(alpha)"
   ]
  },
  {
   "cell_type": "markdown",
   "metadata": {},
   "source": [
    "## Computing the integral of g:"
   ]
  },
  {
   "cell_type": "code",
   "execution_count": 13,
   "metadata": {},
   "outputs": [
    {
     "name": "stdout",
     "output_type": "stream",
     "text": [
      "[1.09593843 1.27612517 0.97656793 0.90481373 0.98226867 1.12773611\n",
      " 1.04345981 1.21279619 1.07055205 1.3094034  1.00354012 0.98597706\n",
      " 0.99687162 1.37895513 1.19047455 1.12344261 0.99044591 0.89882118\n",
      " 1.1596069  0.97161597]\n",
      "1.0849706270953061\n"
     ]
    }
   ],
   "source": [
    "EXPG=np.array([])\n",
    "\n",
    "for i in range(20):\n",
    "    nn=g[i]\n",
    "    Gsum=0\n",
    "    for j in list(range(0,4*i))+list(range(4*(i+1),80)):\n",
    "        inp=X[j].reshape(-1, 1)\n",
    "        Gsum=Gsum + nn.predict(inp)\n",
    "\n",
    "    EXPG=np.append(EXPG, Gsum/(80-4))\n",
    "    \n",
    "print(EXPG)\n",
    "print(np.mean(EXPG))"
   ]
  },
  {
   "cell_type": "markdown",
   "metadata": {},
   "source": [
    "## Computing corrections:"
   ]
  },
  {
   "cell_type": "code",
   "execution_count": 14,
   "metadata": {},
   "outputs": [
    {
     "name": "stdout",
     "output_type": "stream",
     "text": [
      "[-0.0332541  -0.29651248 -0.40246068  0.03228897 -0.29752324 -0.83143965\n",
      "  0.06125903 -0.04368227  0.39772278 -0.28563859  0.0147349  -0.00591121\n",
      " -0.09124295  0.24849885  0.09187586 -0.02622352 -0.01935693  0.01724833\n",
      "  0.11734918  0.15742118]\n",
      "-0.05974232715757459\n"
     ]
    }
   ],
   "source": [
    "Correction=np.array([])\n",
    "\n",
    "for i in range(20):\n",
    "    nn=g[i]\n",
    "    Cr=0\n",
    "    for j in list(range(4*i,4*(i+1))):\n",
    "        inp=X[j].reshape(-1, 1)\n",
    "        Cr=Cr+F[j]-alpha*nn.predict(inp)\n",
    "    Correction=np.append(Correction,Cr/4)\n",
    "    \n",
    "print(Correction)  \n",
    "print(np.mean(Correction)  )"
   ]
  },
  {
   "cell_type": "markdown",
   "metadata": {},
   "source": [
    "## Computing final result of Stacked Monte Carlo:"
   ]
  },
  {
   "cell_type": "code",
   "execution_count": 15,
   "metadata": {},
   "outputs": [
    {
     "name": "stdout",
     "output_type": "stream",
     "text": [
      "[1.07156925 0.9899584  0.58202442 0.94443814 0.69270881 0.30543916\n",
      " 1.11317831 1.17894621 1.47695394 1.03438032 1.02641086 0.9880593\n",
      " 0.91371044 1.63863335 1.29200174 1.10632699 0.97911866 0.92335638\n",
      " 1.28635717 1.13691416]\n"
     ]
    }
   ],
   "source": [
    "Fsmc=alpha*EXPG+Correction\n",
    "print(Fsmc)"
   ]
  },
  {
   "cell_type": "code",
   "execution_count": 16,
   "metadata": {},
   "outputs": [
    {
     "name": "stdout",
     "output_type": "stream",
     "text": [
      "1.0340242993055275\n"
     ]
    }
   ],
   "source": [
    "print(np.mean(Fsmc))"
   ]
  },
  {
   "cell_type": "code",
   "execution_count": null,
   "metadata": {},
   "outputs": [],
   "source": []
  },
  {
   "cell_type": "code",
   "execution_count": null,
   "metadata": {},
   "outputs": [],
   "source": []
  },
  {
   "cell_type": "code",
   "execution_count": null,
   "metadata": {},
   "outputs": [],
   "source": []
  },
  {
   "cell_type": "code",
   "execution_count": null,
   "metadata": {},
   "outputs": [],
   "source": []
  },
  {
   "cell_type": "code",
   "execution_count": null,
   "metadata": {},
   "outputs": [],
   "source": []
  },
  {
   "cell_type": "code",
   "execution_count": null,
   "metadata": {},
   "outputs": [],
   "source": []
  },
  {
   "cell_type": "code",
   "execution_count": null,
   "metadata": {},
   "outputs": [],
   "source": []
  },
  {
   "cell_type": "code",
   "execution_count": null,
   "metadata": {},
   "outputs": [],
   "source": []
  }
 ],
 "metadata": {
  "kernelspec": {
   "display_name": "Python 3",
   "language": "python",
   "name": "python3"
  },
  "language_info": {
   "codemirror_mode": {
    "name": "ipython",
    "version": 3
   },
   "file_extension": ".py",
   "mimetype": "text/x-python",
   "name": "python",
   "nbconvert_exporter": "python",
   "pygments_lexer": "ipython3",
   "version": "3.7.4"
  }
 },
 "nbformat": 4,
 "nbformat_minor": 2
}
