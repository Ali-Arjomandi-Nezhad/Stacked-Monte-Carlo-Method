{
 "cells": [
  {
   "cell_type": "markdown",
   "metadata": {},
   "source": [
    "F(x) = x^6 + 1.2*x^5 - 30.43*x^4 - 6.47*x^3 + 19.05*x^2 -4.81*x + 0.3\n",
    "\n",
    "0.5*integral(F(x)dx, x from -1 to 1)= 0.7068"
   ]
  },
  {
   "cell_type": "code",
   "execution_count": 1,
   "metadata": {},
   "outputs": [],
   "source": [
    "import numpy as np\n",
    "import matplotlib.pyplot as plt"
   ]
  },
  {
   "cell_type": "markdown",
   "metadata": {},
   "source": [
    "## Data and folds:\n",
    "\n",
    "(Notice: In real cases, a huge amount of data is loaded from a file or web.)"
   ]
  },
  {
   "cell_type": "code",
   "execution_count": 2,
   "metadata": {},
   "outputs": [
    {
     "name": "stdout",
     "output_type": "stream",
     "text": [
      "[[ 0.62492234]\n",
      " [-0.29876923]\n",
      " [-0.95348808]\n",
      " [-0.64859451]\n",
      " [ 0.13053319]\n",
      " [ 0.40770076]\n",
      " [ 0.12850984]\n",
      " [-0.92763604]\n",
      " [-0.37143525]\n",
      " [-0.84104157]\n",
      " [-0.39879025]\n",
      " [-0.90397939]\n",
      " [-0.17127682]\n",
      " [ 0.66436775]\n",
      " [-0.69033821]\n",
      " [-0.30452245]\n",
      " [ 0.33488544]\n",
      " [-0.44209886]\n",
      " [ 0.41786962]\n",
      " [ 0.72246692]\n",
      " [-0.43853787]\n",
      " [-0.96664265]\n",
      " [ 0.09868446]\n",
      " [-0.40457063]\n",
      " [-0.96042042]\n",
      " [-0.06594862]\n",
      " [ 0.44312207]\n",
      " [ 0.60672397]\n",
      " [ 0.16548408]\n",
      " [-0.17001576]\n",
      " [ 0.53945548]\n",
      " [ 0.72933108]\n",
      " [ 0.96207305]\n",
      " [-0.2918356 ]\n",
      " [ 0.62467698]\n",
      " [-0.44999642]\n",
      " [-0.99029101]\n",
      " [-0.52744847]\n",
      " [ 0.50246324]\n",
      " [-0.38401963]\n",
      " [-0.84119927]\n",
      " [ 0.54531677]\n",
      " [ 0.7020169 ]\n",
      " [ 0.43134889]\n",
      " [ 0.6565905 ]\n",
      " [-0.11829907]\n",
      " [-0.39780763]\n",
      " [ 0.74975147]\n",
      " [-0.036675  ]\n",
      " [-0.24076583]\n",
      " [ 0.67282998]\n",
      " [-0.87574076]\n",
      " [-0.47573665]\n",
      " [ 0.85700882]\n",
      " [-0.47255495]\n",
      " [ 0.98911405]\n",
      " [ 0.4764397 ]\n",
      " [-0.75389329]\n",
      " [ 0.87429456]\n",
      " [ 0.72549593]\n",
      " [ 0.77031909]\n",
      " [ 0.48445388]\n",
      " [ 0.7996473 ]\n",
      " [ 0.07450961]\n",
      " [ 0.44878509]\n",
      " [ 0.58817519]\n",
      " [-0.59535586]\n",
      " [ 0.24960034]\n",
      " [ 0.36695905]\n",
      " [-0.53915969]\n",
      " [ 0.88775647]\n",
      " [ 0.18372812]\n",
      " [ 0.52801112]\n",
      " [-0.3685132 ]\n",
      " [ 0.50362351]\n",
      " [-0.27076112]\n",
      " [ 0.62068533]\n",
      " [-0.23910166]\n",
      " [-0.20364285]\n",
      " [-0.75210193]]\n",
      "[[-1.31233261e+00]\n",
      " [ 3.36548156e+00]\n",
      " [ 2.46820538e+00]\n",
      " [ 7.75051200e+00]\n",
      " [-2.64477038e-02]\n",
      " [ 2.44347291e-01]\n",
      " [-2.55100005e-02]\n",
      " [ 3.59948223e+00]\n",
      " [ 4.46130829e+00]\n",
      " [ 6.29296060e+00]\n",
      " [ 4.88039907e+00]\n",
      " [ 4.49559290e+00]\n",
      " [ 1.68885696e+00]\n",
      " [-2.07157912e+00]\n",
      " [ 7.83665854e+00]\n",
      " [ 3.45001388e+00]\n",
      " [ 2.06372404e-01]\n",
      " [ 5.53364588e+00]\n",
      " [ 2.37161482e-01]\n",
      " [-3.58354994e+00]\n",
      " [ 5.48082989e+00]\n",
      " [ 1.82835480e+00]\n",
      " [ 1.75666678e-03]\n",
      " [ 4.96862670e+00]\n",
      " [ 2.13655327e+00]\n",
      " [ 7.01344231e-01]\n",
      " [ 2.01040537e-01]\n",
      " [-1.02576787e+00]\n",
      " [-2.62662759e-02]\n",
      " [ 1.67464761e+00]\n",
      " [-2.64302733e-01]\n",
      " [-3.79678020e+00]\n",
      " [-1.67441655e+01]\n",
      " [ 3.26434295e+00]\n",
      " [-1.30821422e+00]\n",
      " [ 5.64999142e+00]\n",
      " [ 5.63509501e-01]\n",
      " [ 6.70353811e+00]\n",
      " [-1.31753206e-02]\n",
      " [ 4.65426828e+00]\n",
      " [ 6.28944051e+00]\n",
      " [-3.13986300e-01]\n",
      " [-2.99329024e+00]\n",
      " [ 2.21327854e-01]\n",
      " [-1.90601291e+00]\n",
      " [ 1.14034361e+00]\n",
      " [ 4.86538220e+00]\n",
      " [-4.47816599e+00]\n",
      " [ 5.02294102e-01]\n",
      " [ 2.54964749e+00]\n",
      " [-2.26107850e+00]\n",
      " [ 5.40257862e+00]\n",
      " [ 6.02005411e+00]\n",
      " [-9.36728552e+00]\n",
      " [ 5.97517847e+00]\n",
      " [-1.91350463e+01]\n",
      " [ 1.06049624e-01]\n",
      " [ 7.58728416e+00]\n",
      " [-1.03880392e+01]\n",
      " [-3.67668592e+00]\n",
      " [-5.23895322e+00]\n",
      " [ 7.38972734e-02]\n",
      " [-6.46167271e+00]\n",
      " [ 4.37570177e-02]\n",
      " [ 1.88967843e-01]\n",
      " [-7.71314879e-01]\n",
      " [ 7.41296435e+00]\n",
      " [ 6.89294002e-02]\n",
      " [ 2.39107749e-01]\n",
      " [ 6.84358661e+00]\n",
      " [-1.12328071e+01]\n",
      " [-1.51908859e-02]\n",
      " [-1.75421228e-01]\n",
      " [ 4.41651971e+00]\n",
      " [-1.95253532e-02]\n",
      " [ 2.96247475e+00]\n",
      " [-1.24220994e+00]\n",
      " [ 2.52739340e+00]\n",
      " [ 2.07149125e+00]\n",
      " [ 7.60150857e+00]]\n"
     ]
    }
   ],
   "source": [
    "x = np.random.uniform(-1, 1, (80, 1))\n",
    "\n",
    "\n",
    "f = np.array([])\n",
    "\n",
    "for k in x:\n",
    "    f = np.append(f, [pow(k, 6) + 1.2*pow(k, 5)- 30.43*pow(k, 4) - 6.47*pow(k, 3) + 19.05*pow(k, 2) - 4.81*k + 0.3])\n",
    "\n",
    "\n",
    "print(x)\n",
    "f = f.reshape(80, 1)\n",
    "print(f)\n"
   ]
  },
  {
   "cell_type": "markdown",
   "metadata": {},
   "source": [
    "## The result of simple Monte Carlo:\n"
   ]
  },
  {
   "cell_type": "code",
   "execution_count": 3,
   "metadata": {},
   "outputs": [
    {
     "name": "stdout",
     "output_type": "stream",
     "text": [
      "0.7446900432071163\n"
     ]
    }
   ],
   "source": [
    "MC_f = np.mean(f)\n",
    "print(MC_f)"
   ]
  },
  {
   "cell_type": "markdown",
   "metadata": {},
   "source": [
    "## Supervised learning:\n",
    "### decision tree regression"
   ]
  },
  {
   "cell_type": "code",
   "execution_count": 4,
   "metadata": {},
   "outputs": [],
   "source": [
    "from sklearn.tree import DecisionTreeRegressor"
   ]
  },
  {
   "cell_type": "code",
   "execution_count": 5,
   "metadata": {},
   "outputs": [],
   "source": [
    "dpth=6\n",
    "g1 = DecisionTreeRegressor(max_depth=dpth)\n",
    "g2 = DecisionTreeRegressor(max_depth=dpth)\n",
    "g3 = DecisionTreeRegressor(max_depth=dpth)\n",
    "g4 = DecisionTreeRegressor(max_depth=dpth)\n",
    "g5 = DecisionTreeRegressor(max_depth=dpth)\n",
    "g6 = DecisionTreeRegressor(max_depth=dpth)\n",
    "g7 = DecisionTreeRegressor(max_depth=dpth)\n",
    "g8 = DecisionTreeRegressor(max_depth=dpth)\n",
    "g9 = DecisionTreeRegressor(max_depth=dpth)\n",
    "g10 = DecisionTreeRegressor(max_depth=dpth)\n",
    "g11 = DecisionTreeRegressor(max_depth=dpth)\n",
    "g12 = DecisionTreeRegressor(max_depth=dpth)\n",
    "g13 = DecisionTreeRegressor(max_depth=dpth)\n",
    "g14 = DecisionTreeRegressor(max_depth=dpth)\n",
    "g15 = DecisionTreeRegressor(max_depth=dpth)\n",
    "g16 = DecisionTreeRegressor(max_depth=dpth)\n",
    "g17 = DecisionTreeRegressor(max_depth=dpth)\n",
    "g18 = DecisionTreeRegressor(max_depth=dpth)\n",
    "g19 = DecisionTreeRegressor(max_depth=dpth)\n",
    "g20 = DecisionTreeRegressor(max_depth=dpth)\n",
    "\n",
    "g=[g1, g2 , g3 , g4 , g5 , g6 , g7 , g8 , g9 , g10 , g11, g12 , g13 , g14 , g15 , g16 , g17 , g18 , g19 , g20]\n",
    "#Twenty \"decision tree\" models"
   ]
  },
  {
   "cell_type": "code",
   "execution_count": 6,
   "metadata": {},
   "outputs": [],
   "source": [
    "# Deviding the dataset into 20 test folds\n",
    "for i in range(20):\n",
    "    inp = x.copy()\n",
    "    inp = np.concatenate([inp[0:4*i], inp[4*(i+1):80]])\n",
    "    \n",
    "    outp = f.copy()\n",
    "    outp = np.concatenate([outp[0:4*i], outp[4*(i+1):80]])\n",
    "       \n",
    "    # Training each of these decision trees with data outside of folds (training sets)\n",
    "    g[i].fit(inp, outp)"
   ]
  },
  {
   "cell_type": "code",
   "execution_count": 7,
   "metadata": {},
   "outputs": [
    {
     "name": "stdout",
     "output_type": "stream",
     "text": [
      "DecisionTreeRegressor(criterion='mse', max_depth=6, max_features=None,\n",
      "                      max_leaf_nodes=None, min_impurity_decrease=0.0,\n",
      "                      min_impurity_split=None, min_samples_leaf=1,\n",
      "                      min_samples_split=2, min_weight_fraction_leaf=0.0,\n",
      "                      presort=False, random_state=None, splitter='best')\n"
     ]
    }
   ],
   "source": [
    "print(g1)"
   ]
  },
  {
   "cell_type": "markdown",
   "metadata": {},
   "source": [
    "   ## Computing alpha:\n",
    "   \n",
    "  ### Computing averages"
   ]
  },
  {
   "cell_type": "code",
   "execution_count": 8,
   "metadata": {},
   "outputs": [
    {
     "name": "stdout",
     "output_type": "stream",
     "text": [
      "[0.75124102]\n"
     ]
    }
   ],
   "source": [
    "mu_f = np.mean(f)\n",
    "\n",
    "\n",
    "g_sum = 0\n",
    "\n",
    "for i in range(20): \n",
    "    nn = g[i] #The ith decision tree\n",
    "    \n",
    "    for j in list(range(4*i, 4*(i+1))):  # jth fold (test set) \n",
    "        inp = x[j].reshape(-1, 1)\n",
    "        g_sum = g_sum + nn.predict(inp)\n",
    "\n",
    "\n",
    "mu_g = g_sum/(x.shape[0])  #Average of machine learning model outputs over test folds\n",
    "print(mu_g)"
   ]
  },
  {
   "cell_type": "markdown",
   "metadata": {},
   "source": [
    "  ### Computing standard deviation"
   ]
  },
  {
   "cell_type": "code",
   "execution_count": 9,
   "metadata": {},
   "outputs": [
    {
     "name": "stdout",
     "output_type": "stream",
     "text": [
      "5.016310924731274\n"
     ]
    }
   ],
   "source": [
    "import math  \n",
    "\n",
    "sd_f = math.sqrt(sum([(ff-mu_f) * (ff-mu_f) for ff in f]) / (x.shape[0] - 1))  #Standard deviation of actual data\n",
    "print(sd_f)"
   ]
  },
  {
   "cell_type": "code",
   "execution_count": 10,
   "metadata": {},
   "outputs": [
    {
     "name": "stdout",
     "output_type": "stream",
     "text": [
      "4.9573595110984305\n"
     ]
    }
   ],
   "source": [
    "b = []\n",
    "for i in range(20): \n",
    "    nn = g[i]\n",
    "    for j in list(range(4*i, 4*(i+1))):\n",
    "        inp = x[j].reshape(-1, 1)         \n",
    "        b.append((nn.predict(inp) - mu_g) * (nn.predict(inp) - mu_g))\n",
    "            \n",
    "            \n",
    "sd_g = math.sqrt(sum(b)/(x.shape[0] - 1))  #Standard deviation of machine learning model outputs over test folds\n",
    "print(sd_g)\n",
    "\n"
   ]
  },
  {
   "cell_type": "markdown",
   "metadata": {},
   "source": [
    "### Computing covariance and alpha"
   ]
  },
  {
   "cell_type": "code",
   "execution_count": 11,
   "metadata": {},
   "outputs": [
    {
     "name": "stdout",
     "output_type": "stream",
     "text": [
      "[24.68289347]\n"
     ]
    }
   ],
   "source": [
    "c = []\n",
    "\n",
    "for i in range(20): \n",
    "    nn = g[i]\n",
    "    for j in list(range(4*i, 4*(i+1))):\n",
    "        inp = x[j].reshape(-1, 1)         \n",
    "        c.append((f[j] - mu_f)*(nn.predict(inp) - mu_g))\n",
    "            \n",
    "            \n",
    "cov = sum(c)/(x.shape[0] - 1)  #Covariance\n",
    "print(cov)"
   ]
  },
  {
   "cell_type": "code",
   "execution_count": 12,
   "metadata": {},
   "outputs": [
    {
     "name": "stdout",
     "output_type": "stream",
     "text": [
      "[1.00437348]\n"
     ]
    }
   ],
   "source": [
    "ro = cov/(sd_f*sd_g)\n",
    "alpha = ro*(sd_f/sd_g)\n",
    "print(alpha)"
   ]
  },
  {
   "cell_type": "markdown",
   "metadata": {},
   "source": [
    "## Computing the integral of g:"
   ]
  },
  {
   "cell_type": "code",
   "execution_count": 13,
   "metadata": {},
   "outputs": [
    {
     "name": "stdout",
     "output_type": "stream",
     "text": [
      "[0.62241233 0.73399121 0.5190124  0.64041123 0.75238913 0.62231099\n",
      " 0.75739517 0.81563033 0.90412169 0.6271982  0.74173305 0.7888639\n",
      " 0.7023916  1.00108293 0.86771835 0.93629178 0.69310075 0.83869088\n",
      " 0.68935731 0.63969763]\n",
      "0.7446900432071164\n"
     ]
    }
   ],
   "source": [
    "EXPG = np.array([])\n",
    "\n",
    "for i in range(20):\n",
    "    nn = g[i]\n",
    "    g_sum = 0\n",
    "    for j in list(range(0, 4*i))+list(range(4*(i+1), 80)):\n",
    "        inp = x[j].reshape(-1, 1)\n",
    "        g_sum = g_sum + nn.predict(inp)\n",
    "\n",
    "    EXPG = np.append(EXPG, g_sum/(80-4))\n",
    "    \n",
    "print(EXPG)\n",
    "print(np.mean(EXPG))"
   ]
  },
  {
   "cell_type": "markdown",
   "metadata": {},
   "source": [
    "## Computing corrections:"
   ]
  },
  {
   "cell_type": "code",
   "execution_count": 14,
   "metadata": {},
   "outputs": [
    {
     "name": "stdout",
     "output_type": "stream",
     "text": [
      "[ 0.32111486 -0.25688724  0.28743026  0.20845207  0.03025578 -0.17032889\n",
      "  0.20775533 -0.068196    0.5496308  -0.47878282 -0.07569793 -0.27811261\n",
      "  0.074369   -0.15140888  0.37031496 -0.70864337  0.19863105 -0.28343936\n",
      " -0.14497159  0.17178417]\n",
      "-0.009836520350117218\n"
     ]
    }
   ],
   "source": [
    "correction = np.array([])\n",
    "\n",
    "for i in range(20):\n",
    "    nn = g[i]\n",
    "    cr = 0\n",
    "    for j in list(range(4*i, 4*(i+1))):\n",
    "        inp = x[j].reshape(-1, 1)\n",
    "        cr = cr + f[j] - alpha*nn.predict(inp)\n",
    "    correction=np.append(correction, cr/4)\n",
    "    \n",
    "print(correction)  \n",
    "print(np.mean(correction))"
   ]
  },
  {
   "cell_type": "markdown",
   "metadata": {},
   "source": [
    "## Computing final result of Stacked Monte Carlo:"
   ]
  },
  {
   "cell_type": "code",
   "execution_count": 15,
   "metadata": {},
   "outputs": [
    {
     "name": "stdout",
     "output_type": "stream",
     "text": [
      "[0.9462493  0.48031406 0.80871255 0.85166413 0.78593547 0.45470377\n",
      " 0.96846296 0.75100147 1.45770666 0.15115842 0.66927908 0.51420138\n",
      " 0.7798325  0.85405227 1.24182826 0.23174327 0.89476306 0.55891953\n",
      " 0.54740061 0.81427951]\n"
     ]
    }
   ],
   "source": [
    "f_smc = alpha*EXPG + correction\n",
    "print(f_smc)"
   ]
  },
  {
   "cell_type": "code",
   "execution_count": 16,
   "metadata": {},
   "outputs": [
    {
     "name": "stdout",
     "output_type": "stream",
     "text": [
      "0.7381104120092676\n"
     ]
    }
   ],
   "source": [
    "print(np.mean(f_smc))"
   ]
  },
  {
   "cell_type": "code",
   "execution_count": null,
   "metadata": {},
   "outputs": [],
   "source": []
  },
  {
   "cell_type": "code",
   "execution_count": null,
   "metadata": {},
   "outputs": [],
   "source": []
  },
  {
   "cell_type": "code",
   "execution_count": null,
   "metadata": {},
   "outputs": [],
   "source": []
  },
  {
   "cell_type": "code",
   "execution_count": null,
   "metadata": {},
   "outputs": [],
   "source": []
  },
  {
   "cell_type": "code",
   "execution_count": null,
   "metadata": {},
   "outputs": [],
   "source": []
  },
  {
   "cell_type": "code",
   "execution_count": null,
   "metadata": {},
   "outputs": [],
   "source": []
  },
  {
   "cell_type": "code",
   "execution_count": null,
   "metadata": {},
   "outputs": [],
   "source": []
  },
  {
   "cell_type": "code",
   "execution_count": null,
   "metadata": {},
   "outputs": [],
   "source": []
  }
 ],
 "metadata": {
  "kernelspec": {
   "display_name": "Python 3",
   "language": "python",
   "name": "python3"
  },
  "language_info": {
   "codemirror_mode": {
    "name": "ipython",
    "version": 3
   },
   "file_extension": ".py",
   "mimetype": "text/x-python",
   "name": "python",
   "nbconvert_exporter": "python",
   "pygments_lexer": "ipython3",
   "version": "3.7.4"
  }
 },
 "nbformat": 4,
 "nbformat_minor": 2
}
